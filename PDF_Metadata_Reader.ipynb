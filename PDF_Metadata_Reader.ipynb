{
  "nbformat": 4,
  "nbformat_minor": 0,
  "metadata": {
    "colab": {
      "name": "PDF_Metadata-Reader",
      "provenance": [],
      "authorship_tag": "ABX9TyPjXUWCAWcpiMenTRcDEaFM"
    },
    "kernelspec": {
      "name": "python3",
      "display_name": "Python 3"
    },
    "language_info": {
      "name": "python"
    }
  },
  "cells": [
    {
      "cell_type": "code",
      "source": [
        "!pip install pypdf2"
      ],
      "metadata": {
        "colab": {
          "base_uri": "https://localhost:8080/"
        },
        "id": "iRhoJrhMCutC",
        "outputId": "e5c9218b-4261-4a2d-ce87-3ded57bd2017"
      },
      "execution_count": null,
      "outputs": [
        {
          "output_type": "stream",
          "name": "stdout",
          "text": [
            "Collecting pypdf2\n",
            "  Downloading PyPDF2-1.27.12-py3-none-any.whl (80 kB)\n",
            "\u001b[?25l\r\u001b[K     |████                            | 10 kB 17.8 MB/s eta 0:00:01\r\u001b[K     |████████▏                       | 20 kB 9.8 MB/s eta 0:00:01\r\u001b[K     |████████████▎                   | 30 kB 8.3 MB/s eta 0:00:01\r\u001b[K     |████████████████▍               | 40 kB 3.5 MB/s eta 0:00:01\r\u001b[K     |████████████████████▌           | 51 kB 3.6 MB/s eta 0:00:01\r\u001b[K     |████████████████████████▋       | 61 kB 4.2 MB/s eta 0:00:01\r\u001b[K     |████████████████████████████▋   | 71 kB 4.4 MB/s eta 0:00:01\r\u001b[K     |████████████████████████████████| 80 kB 2.9 MB/s \n",
            "\u001b[?25hInstalling collected packages: pypdf2\n",
            "Successfully installed pypdf2-1.27.12\n"
          ]
        }
      ]
    },
    {
      "cell_type": "markdown",
      "source": [
        "(已完成)爬取MedaData"
      ],
      "metadata": {
        "id": "O2M2KB5QHWDw"
      }
    },
    {
      "cell_type": "code",
      "execution_count": null,
      "metadata": {
        "id": "OaoMGEI3IlWn"
      },
      "outputs": [],
      "source": [
        "def reader(pdf_file):\n",
        "  cleandata={}\n",
        "  #讀取meta，需要檔名，摘要，作者\n",
        "  from PyPDF2 import PdfFileReader, PdfFileWriter\n",
        "\n",
        "  with open(pdf_file, 'rb') as f:\n",
        "    pdf = PdfFileReader(f)\n",
        "    information = str(pdf.getDocumentInfo())\n",
        "    metadata=information.split('/')\n",
        "    for i in range(0,len(metadata)-1,1):\n",
        "      metadata[i]=metadata[i].split(',')[0]\n",
        "      try:\n",
        "        data_title=metadata[i].split(\"': '\")[0]\n",
        "        data_content=metadata[i].split(\"': '\")[1]\n",
        "      except:\n",
        "        continue\n",
        "      cleandata[data_title]=data_content \n",
        "\n",
        "\n",
        "  return cleandata"
      ]
    },
    {
      "cell_type": "code",
      "source": [
        "pdf_file='Species definitions and conservation a review and case studies from African mammals.pdf'\n",
        "metadata=reader(pdf_file)\n",
        "#print(information.keys()) #拿到全部的key值\n",
        "print(metadata)"
      ],
      "metadata": {
        "colab": {
          "base_uri": "https://localhost:8080/"
        },
        "id": "EDojpMnJGis2",
        "outputId": "89c5ba52-02a2-4668-bfd2-de850fd0e815"
      },
      "execution_count": null,
      "outputs": [
        {
          "output_type": "stream",
          "name": "stdout",
          "text": [
            "{'Author': \"Colin P. Groves'\", 'Creator': \"Springer'\", 'CrossMarkDomains#5B1#5D': \"springer.com'\", 'CrossMarkDomains#5B2#5D': \"springerlink.com'\", 'CrossmarkDomainExclusive': \"true'\", 'CrossmarkMajorVersionDate': \"2010-04-23'\", 'Keywords': 'Evolutionary species', 'Producer': \"Adobe PDF Library 15.0'\", 'Subject': 'Conservation Genetics', 'Title': \"Species definitions and conservation: a review and case studies from African mammals'\", 'Trapped': '', 'doi': '10.1007'}\n"
          ]
        }
      ]
    }
  ]
}